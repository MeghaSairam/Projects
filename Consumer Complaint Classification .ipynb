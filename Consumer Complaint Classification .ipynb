{
  "nbformat": 4,
  "nbformat_minor": 0,
  "metadata": {
    "colab": {
      "provenance": [],
      "authorship_tag": "ABX9TyPtAQlQMKuwKKmWbYFoylCD",
      "include_colab_link": true
    },
    "kernelspec": {
      "name": "python3",
      "display_name": "Python 3"
    },
    "language_info": {
      "name": "python"
    }
  },
  "cells": [
    {
      "cell_type": "markdown",
      "metadata": {
        "id": "view-in-github",
        "colab_type": "text"
      },
      "source": [
        "<a href=\"https://colab.research.google.com/github/MeghaSairam/Projects/blob/main/Consumer%20Complaint%20Classification%20.ipynb\" target=\"_parent\"><img src=\"https://colab.research.google.com/assets/colab-badge.svg\" alt=\"Open In Colab\"/></a>"
      ]
    },
    {
      "cell_type": "code",
      "execution_count": null,
      "metadata": {
        "id": "0EnnT7UkN1-w"
      },
      "outputs": [],
      "source": [
        "import pandas as pd\n",
        "import numpy as np\n",
        "import nltk\n",
        "from sklearn.feature_extraction.text import CountVectorizer\n",
        "from sklearn.model_selection import train_test_split\n",
        "from sklearn.naive_bayes import MultinomialNB\n",
        "from sklearn.linear_model import SGDClassifier\n",
        "nltk.download('stopwords')\n",
        "stemmer = nltk.SnowballStemmer(\"english\")\n",
        "from nltk.corpus import stopwords\n",
        "import string\n",
        "import re\n",
        "stopword = set(stopwords.words('english'))\n",
        "df= pd.read_csv('/content/drive/MyDrive/consumercomplaints.csv')\n",
        "#print(df.head())  # Displays the first few rows of the DataFrame\n",
        "data = df.drop('Unnamed: 0',axis =1,inplace = True) # inplace = True - Apply changes to original data, Unnamed 0 - Column, axis =1 Delet column\n",
        "data = df.dropna() # Delete rows that contain null values\n",
        "print(data[\"Product\"].value_counts()) # print count of frequency of product label.\n",
        "def clean(text):    #function to remove links, text in square bracket, punctuatio,new lines, stopwords.\n",
        "  text= str(text).lower()\n",
        "  text = re.sub('\\[.*?\\]', '', text)\n",
        "  text = re.sub('https?://\\S+|www\\.\\S+', '', text)\n",
        "  text = re.sub('<.*?>+', '', text)\n",
        "  text = re.sub('[%s]' % re.escape(string.punctuation), '', text)\n",
        "  text = re.sub('\\n', '', text)\n",
        "  text = re.sub('\\w*\\d\\w*', '', text)\n",
        "  text = [word for word in text.split(' ') if word not in stopword]\n",
        "  text=\" \".join(text)\n",
        "  text = [stemmer.stem(word) for word in text.split(' ')]\n",
        "  text=\" \".join(text)\n",
        "  return text\n",
        "#Divide data into training data set and test data set.\n",
        "data[\"Consumer complaint narrative\"]=data[\"Consumer complaint narrative\"].apply(clean) # Apply clean function to Consumer complaint narrative column\n",
        "data = data[[\"Consumer complaint narrative\", \"Product\"]]\n",
        "x = np.array(data[\"Consumer complaint narrative\"]) #convert data into numbers using array.\n",
        "y = np.array(data[\"Product\"]) #convert data into numbers using array.\n",
        "#Training data using Stochastic Gradient Descent classification algorithm\n",
        "cv = CountVectorizer()\n",
        "X = cv.fit_transform(x)\n",
        "X_train,X_test,y_train,y_test = train_test_split(X,y,test_size=0.33,random_state=42)\n",
        "sgdmodel = SGDClassifier()\n",
        "sgdmodel.fit(X_train,y_train)\n",
        "user = input(\"Enter a Text: \")\n",
        "data = cv.transform([user]).toarray()\n",
        "output = sgdmodel.predict(data)\n",
        "print(output)"
      ]
    }
  ]
}